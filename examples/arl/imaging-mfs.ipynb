{
 "cells": [
  {
   "cell_type": "markdown",
   "metadata": {},
   "source": [
    "# MFS demonstration"
   ]
  },
  {
   "cell_type": "markdown",
   "metadata": {},
   "source": [
    "This script makes a fake data set and then deconvolves it. Finally the full and residual visibility are plotted."
   ]
  },
  {
   "cell_type": "code",
   "execution_count": null,
   "metadata": {
    "collapsed": true
   },
   "outputs": [],
   "source": [
    "%matplotlib inline\n",
    "\n",
    "import os\n",
    "import sys\n",
    "import multiprocessing\n",
    "\n",
    "sys.path.append(os.path.join('..', '..'))\n",
    "\n",
    "results_dir = './results'\n",
    "os.makedirs(results_dir, exist_ok=True)\n",
    "\n",
    "from matplotlib import pylab\n",
    "\n",
    "pylab.rcParams['figure.figsize'] = (10.0, 10.0)\n",
    "pylab.rcParams['image.cmap'] = 'rainbow'\n",
    "\n",
    "import numpy\n",
    "\n",
    "from astropy.coordinates import SkyCoord\n",
    "from astropy import units as u\n",
    "from astropy import constants as const\n",
    "from astropy.wcs.utils import pixel_to_skycoord\n",
    "\n",
    "from matplotlib import pyplot as plt\n",
    "\n",
    "from arl.data.polarisation import PolarisationFrame\n",
    "from arl.visibility.base import create_visibility\n",
    "from arl.skycomponent.operations import create_skycomponent\n",
    "from arl.image.operations import show_image, export_image_to_fits, smooth_image, \\\n",
    "    calculate_image_frequency_moments, calculate_image_from_frequency_moments\n",
    "from arl.image.deconvolution import deconvolve_cube, restore_cube\n",
    "from arl.image.iterators import raster_iter\n",
    "from arl.image.solvers import solve_image\n",
    "from arl.visibility.iterators import vis_timeslice_iter\n",
    "from arl.util.testing_support import create_named_configuration, \\\n",
    "    create_low_test_image_from_gleam, create_low_test_beam\n",
    "from arl.imaging import *\n",
    "from arl.imaging.weighting import weight_visibility\n",
    "\n",
    "import logging\n",
    "\n",
    "log = logging.getLogger()\n",
    "log.setLevel(logging.DEBUG)\n",
    "log.addHandler(logging.StreamHandler(sys.stdout))"
   ]
  },
  {
   "cell_type": "markdown",
   "metadata": {},
   "source": [
    "Construct LOW configuration"
   ]
  },
  {
   "cell_type": "markdown",
   "metadata": {},
   "source": [
    "We create the visibility. This just makes the uvw, time, antenna1, antenna2, weight columns in a table"
   ]
  },
  {
   "cell_type": "code",
   "execution_count": null,
   "metadata": {},
   "outputs": [],
   "source": [
    "config = 'core'\n",
    "if config == 'full':\n",
    "    low = create_named_configuration('LOWBD2')\n",
    "    b = 8e4\n",
    "    cellsize = 0.00001\n",
    "    npixel=5 * 2048\n",
    "    padding = 1\n",
    "    invert = invert_2d\n",
    "    predict = predict_2d\n",
    "\n",
    "else:\n",
    "    low = create_named_configuration('LOWBD2-CORE')\n",
    "    b = 4e3\n",
    "    cellsize = 0.001\n",
    "    npixel=512\n",
    "    padding = 2\n",
    "    invert = invert_2d\n",
    "    predict = predict_2d\n",
    "\n",
    "    \n",
    "oversampling = 32\n",
    "\n",
    "nchan = 7\n",
    "frequency = numpy.linspace(0.8e8, 1.2e8, nchan)\n",
    "centre_frequency = numpy.array([numpy.average(frequency)])\n",
    "channel_bandwidth=numpy.array(nchan * [frequency[1]-frequency[0]])\n",
    "total_bandwidth = numpy.array([numpy.sum(channel_bandwidth)])\n",
    "\n",
    "times = numpy.linspace(-3, +3, 5) * numpy.pi / 12.0\n",
    "log.info('Observing times %s' % (times))\n",
    "log.info(\"Observing frequencies %s Hz\" % (frequency))\n",
    "log.info(\"Channel bandwidths %s Hz\" % (channel_bandwidth))\n",
    "log.info(\"Centre frequency %s Hz\" % (centre_frequency))\n",
    "log.info(\"Cellsize = %.6f radians\" % (cellsize))"
   ]
  },
  {
   "cell_type": "code",
   "execution_count": null,
   "metadata": {},
   "outputs": [],
   "source": [
    "phasecentre = SkyCoord(ra=+15.0 * u.deg, dec=-35.0 * u.deg, frame='icrs', equinox='J2000')\n",
    "vt = create_visibility(low, times, frequency, channel_bandwidth=channel_bandwidth,\n",
    "                       weight=1.0, phasecentre=phasecentre, \n",
    "                       polarisation_frame=PolarisationFrame('stokesI'))"
   ]
  },
  {
   "cell_type": "markdown",
   "metadata": {},
   "source": [
    "Plot the synthesized uv coverage"
   ]
  },
  {
   "cell_type": "code",
   "execution_count": null,
   "metadata": {
    "scrolled": false
   },
   "outputs": [],
   "source": [
    "plt.clf()\n",
    "plt.plot(vt.uvw[:,0],   vt.uvw[:,1], '.', color='b')\n",
    "plt.plot(-vt.uvw[:,0], -vt.uvw[:,1], '.', color='b')\n",
    "plt.xlabel(\"U (wavelengths)\")\n",
    "plt.ylabel(\"V (wavelengths)\")\n",
    "plt.show()"
   ]
  },
  {
   "cell_type": "markdown",
   "metadata": {},
   "source": [
    "Make a test image"
   ]
  },
  {
   "cell_type": "code",
   "execution_count": null,
   "metadata": {},
   "outputs": [],
   "source": [
    "model_centrechannel = create_low_test_image_from_gleam(npixel=npixel, \n",
    "                                                       frequency=centre_frequency, \n",
    "                                                       channel_bandwidth=total_bandwidth, \n",
    "                                                       cellsize=cellsize, \n",
    "                                                       phasecentre=phasecentre)\n",
    "export_image_to_fits(model_centrechannel, '%s/imaging-mfs-model_centre_channel.fits' % \n",
    "                     (results_dir))"
   ]
  },
  {
   "cell_type": "code",
   "execution_count": null,
   "metadata": {
    "scrolled": true
   },
   "outputs": [],
   "source": [
    "model_multichannel = create_low_test_image_from_gleam(npixel=npixel, frequency=frequency, \n",
    "                                                      channel_bandwidth=channel_bandwidth, \n",
    "                                                      cellsize=cellsize, \n",
    "                                                      phasecentre=phasecentre)"
   ]
  },
  {
   "cell_type": "code",
   "execution_count": null,
   "metadata": {},
   "outputs": [],
   "source": [
    "beam=create_low_test_beam(model_multichannel)\n",
    "model_multichannel.data*=beam.data\n",
    "print(\"Model * beam has %.3f Jy\" % (numpy.sum(model_multichannel.data[0,0,:,:])))\n",
    "cmodel = smooth_image(model_multichannel)\n",
    "show_image(cmodel)\n",
    "plt.title(\"Smoothed model image\")\n",
    "plt.show()\n",
    "export_image_to_fits(cmodel, '%s/imaging-mfs-cmodel.fits' % (results_dir))\n",
    "beam = None\n",
    "cmodel = None"
   ]
  },
  {
   "cell_type": "code",
   "execution_count": null,
   "metadata": {
    "scrolled": true
   },
   "outputs": [],
   "source": [
    "export_image_to_fits(model_multichannel, '%s/imaging-mfs-multi_channel.fits' % (results_dir))\n",
    "moment_cube = calculate_image_frequency_moments(model_multichannel,nmoments=3)\n",
    "export_image_to_fits(moment_cube, '%s/imaging-mfs-moment_cube.fits' % (results_dir))"
   ]
  },
  {
   "cell_type": "code",
   "execution_count": null,
   "metadata": {},
   "outputs": [],
   "source": [
    "reconstructed_cube = calculate_image_from_frequency_moments(model_multichannel, moment_cube)\n",
    "export_image_to_fits(reconstructed_cube, '%s/imaging-mfs-reconstructed_cube.fits' % \n",
    "                     (results_dir))"
   ]
  },
  {
   "cell_type": "code",
   "execution_count": null,
   "metadata": {
    "scrolled": false
   },
   "outputs": [],
   "source": [
    "vt.data['vis'] *= 0.0\n",
    "vt = predict(vt, model_multichannel)\n",
    "\n",
    "# To check that we got the prediction right, plot the amplitude of the visibility.\n",
    "uvdist=numpy.sqrt(vt.data['uvw'][:,0]**2+vt.data['uvw'][:,1]**2)\n",
    "plt.clf()\n",
    "plt.plot(uvdist, numpy.abs(vt.data['vis']), '.')\n",
    "plt.xlabel('uvdist')\n",
    "plt.ylabel('Amp Visibility')\n",
    "plt.show()"
   ]
  },
  {
   "cell_type": "markdown",
   "metadata": {},
   "source": [
    "Weight the data"
   ]
  },
  {
   "cell_type": "code",
   "execution_count": null,
   "metadata": {},
   "outputs": [],
   "source": [
    "vt, density, densitygrid = weight_visibility(vt, model_centrechannel)\n",
    "plt.clf()\n",
    "plt.semilogy(uvdist, density, '.')\n",
    "plt.xlabel('uvdist')\n",
    "plt.ylabel('Sample density')\n",
    "plt.show()\n",
    "density = None\n",
    "densitygrid = None"
   ]
  },
  {
   "cell_type": "markdown",
   "metadata": {},
   "source": [
    "Make the dirty image and point spread function"
   ]
  },
  {
   "cell_type": "code",
   "execution_count": null,
   "metadata": {
    "scrolled": false
   },
   "outputs": [],
   "source": [
    "dirty, sumwt = invert(vt, model_multichannel, padding=1)\n",
    "show_image(dirty)\n",
    "psf, sumwt = invert(vt, model_multichannel, dopsf=True, padding=1)\n",
    "\n",
    "print(\"Max, min in dirty image = %.6f, %.6f, sumwt = %s\" % \n",
    "      (dirty.data.max(), dirty.data.min(), sumwt))\n",
    "print(\"Max, min in PSF         = %.6f, %.6f, sumwt = %s\" % \n",
    "      (psf.data.max(), psf.data.min(), sumwt))\n",
    "\n",
    "export_image_to_fits(dirty, '%s/imaging-mfs-dirty.fits' % (results_dir))\n",
    "export_image_to_fits(psf, '%s/imaging-mfs-psf.fits' % (results_dir))"
   ]
  },
  {
   "cell_type": "code",
   "execution_count": null,
   "metadata": {
    "scrolled": false
   },
   "outputs": [],
   "source": [
    "comp, residual = deconvolve_cube(dirty, psf, niter=1000, gain=0.7, algorithm='msmfsclean',\n",
    "                scales=[0, 3, 10, 30], threshold=0.01, fractional_threshold=0.001, nmoments=3)\n",
    "export_image_to_fits(comp, '%s/imaging-mfs-comp.fits' % (results_dir))\n",
    "clean = restore_cube(model=comp, psf=psf, residual=residual)\n",
    "export_image_to_fits(residual, '%s/imaging-mfs-residual.fits' % (results_dir))\n",
    "export_image_to_fits(clean, '%s/imaging-mfs-clean.fits' % (results_dir))\n",
    "show_image(clean)\n",
    "plt.show()"
   ]
  },
  {
   "cell_type": "markdown",
   "metadata": {},
   "source": [
    "Predict the visibility of the model"
   ]
  },
  {
   "cell_type": "code",
   "execution_count": null,
   "metadata": {},
   "outputs": [],
   "source": [
    "vtmodel = create_visibility(low, times, frequency, channel_bandwidth=channel_bandwidth,\n",
    "                            weight=1.0, phasecentre=phasecentre, \n",
    "                            polarisation_frame=PolarisationFrame('stokesI'))\n",
    "vtmodel=predict(vtmodel, comp)"
   ]
  },
  {
   "cell_type": "markdown",
   "metadata": {
    "collapsed": true
   },
   "source": [
    "Now we will plot the original visibility and the residual visibility."
   ]
  },
  {
   "cell_type": "code",
   "execution_count": null,
   "metadata": {},
   "outputs": [],
   "source": [
    "uvdist=numpy.sqrt(vt.data['uvw'][:,0]**2+vt.data['uvw'][:,1]**2)\n",
    "plt.clf()\n",
    "plt.plot(uvdist, numpy.abs(vt.data['vis']), '.', color='b', label='Original')\n",
    "plt.plot(uvdist, numpy.abs(vt.data['vis']-vtmodel.data['vis']), '.', color='r', \n",
    "         label='Residual')\n",
    "\n",
    "plt.xlabel('uvdist')\n",
    "plt.ylabel('Amp Visibility')\n",
    "plt.legend()\n",
    "plt.show()"
   ]
  },
  {
   "cell_type": "code",
   "execution_count": null,
   "metadata": {
    "collapsed": true
   },
   "outputs": [],
   "source": []
  }
 ],
 "metadata": {
  "kernelspec": {
   "display_name": "Python 3",
   "language": "python",
   "name": "python3"
  },
  "language_info": {
   "codemirror_mode": {
    "name": "ipython",
    "version": 3
   },
   "file_extension": ".py",
   "mimetype": "text/x-python",
   "name": "python",
   "nbconvert_exporter": "python",
   "pygments_lexer": "ipython3",
   "version": "3.6.1"
  }
 },
 "nbformat": 4,
 "nbformat_minor": 1
}
