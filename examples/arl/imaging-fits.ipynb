{
 "cells": [
  {
   "cell_type": "markdown",
   "metadata": {},
   "source": [
    "## Demonstrate full circle wide field imaging\n",
    "\n",
    "This include prediction of components, inversion, point source fitting. We will compare the output images with the input models, looking for closeness in flux and position."
   ]
  },
  {
   "cell_type": "code",
   "execution_count": null,
   "metadata": {
    "collapsed": true
   },
   "outputs": [],
   "source": [
    "% matplotlib inline\n",
    "\n",
    "import os\n",
    "import sys\n",
    "\n",
    "results_dir = './results'\n",
    "os.makedirs(results_dir, exist_ok=True)\n",
    "\n",
    "sys.path.append(os.path.join('..', '..'))\n",
    "\n",
    "from matplotlib import pylab\n",
    "\n",
    "pylab.rcParams['figure.figsize'] = (10.0, 10.0)\n",
    "pylab.rcParams['image.cmap'] = 'rainbow'\n",
    "\n",
    "import numpy\n",
    "\n",
    "from astropy.coordinates import SkyCoord\n",
    "from astropy.time import Time\n",
    "from astropy import units as u\n",
    "from astropy.wcs.utils import pixel_to_skycoord\n",
    "\n",
    "from arl.visibility.base import create_visibility\n",
    "from arl.visibility.operations import sum_visibility\n",
    "from arl.visibility.iterators import vis_timeslice_iter\n",
    "from arl.util.testing_support import create_named_configuration\n",
    "from arl.util.timing import timing\n",
    "\n",
    "from matplotlib import pyplot as plt\n",
    "\n",
    "from arl.skycomponent.operations import create_skycomponent, find_skycomponents, \\\n",
    "    find_nearest_component, insert_skycomponent\n",
    "from arl.image.operations import show_image, export_image_to_fits, qa_image, smooth_image\n",
    "from arl.image.iterators import raster_iter\n",
    "from arl.util.testing_support import create_named_configuration\n",
    "from arl.imaging import advise_wide_field, predict_2d, predict_wstack, predict_timeslice, predict_facets, \\\n",
    "    predict_wprojection, invert_wstack, invert_2d, invert_timeslice, invert_facets, invert_wprojection, \\\n",
    "    create_image_from_visibility, predict_skycomponent_visibility\n",
    "from arl.data.polarisation import PolarisationFrame\n",
    "\n",
    "import logging\n",
    "\n",
    "log = logging.getLogger()\n",
    "log.setLevel(logging.DEBUG)\n",
    "log.addHandler(logging.StreamHandler(sys.stdout))"
   ]
  },
  {
   "cell_type": "markdown",
   "metadata": {},
   "source": [
    "Construct the SKA1-LOW core configuration"
   ]
  },
  {
   "cell_type": "code",
   "execution_count": null,
   "metadata": {
    "collapsed": true
   },
   "outputs": [],
   "source": [
    "lowcore = create_named_configuration('LOWBD2-CORE')"
   ]
  },
  {
   "cell_type": "markdown",
   "metadata": {},
   "source": [
    "We create the visibility. This just makes the uvw, time, antenna1, antenna2, weight columns in a table"
   ]
  },
  {
   "cell_type": "code",
   "execution_count": null,
   "metadata": {
    "scrolled": false
   },
   "outputs": [],
   "source": [
    "times = numpy.array([-3.0, -2.0, -1.0, 0.0, 1.0, 2.0, 3.0]) * (numpy.pi / 12.0)\n",
    "frequency = numpy.array([1e8])\n",
    "channel_bandwidth = numpy.array([1e6])\n",
    "reffrequency = numpy.max(frequency)\n",
    "phasecentre = SkyCoord(ra=+15.0 * u.deg, dec=-45.0 * u.deg, frame='icrs', equinox='J2000')\n",
    "vt = create_visibility(lowcore, times, frequency, channel_bandwidth=channel_bandwidth,\n",
    "                       weight=1.0, phasecentre=phasecentre, \n",
    "                       polarisation_frame=PolarisationFrame('stokesI'))"
   ]
  },
  {
   "cell_type": "code",
   "execution_count": null,
   "metadata": {},
   "outputs": [],
   "source": [
    "advice = advise_wide_field(vt, wprojection_planes=1)"
   ]
  },
  {
   "cell_type": "markdown",
   "metadata": {},
   "source": [
    "Fill in the visibility with exact calculation of a number of point sources"
   ]
  },
  {
   "cell_type": "code",
   "execution_count": null,
   "metadata": {
    "scrolled": false
   },
   "outputs": [],
   "source": [
    "vt.data['vis'] *= 0.0\n",
    "npixel=256\n",
    "\n",
    "model = create_image_from_visibility(vt, npixel=npixel, cellsize=0.001, nchan=1, \n",
    "                                     polarisation_frame=PolarisationFrame('stokesI'))\n",
    "centre = model.wcs.wcs.crpix-1\n",
    "spacing_pixels = npixel // 8\n",
    "log.info('Spacing in pixels = %s' % spacing_pixels)\n",
    "spacing = model.wcs.wcs.cdelt * spacing_pixels\n",
    "locations = [-3.5, -2.5, -1.5, -0.5, 0.5, 1.5, 2.5, 3.5]\n",
    "\n",
    "original_comps = []\n",
    "# We calculate the source positions in pixels and then calculate the\n",
    "# world coordinates to put in the skycomponent description\n",
    "for iy in locations:\n",
    "    for ix in locations:\n",
    "        if ix >= iy:\n",
    "            p = int(round(centre[0] + ix * spacing_pixels * numpy.sign(model.wcs.wcs.cdelt[0]))), \\\n",
    "                int(round(centre[1] + iy * spacing_pixels * numpy.sign(model.wcs.wcs.cdelt[1])))\n",
    "            sc = pixel_to_skycoord(p[0], p[1], model.wcs)\n",
    "            log.info(\"Component at (%f, %f) [0-rel] %s\" % (p[0], p[1], str(sc)))\n",
    "            flux = numpy.array([[100.0 + 2.0 * ix + iy * 20.0]])\n",
    "            comp = create_skycomponent(flux=flux, frequency=frequency, direction=sc, \n",
    "                                       polarisation_frame=PolarisationFrame('stokesI'))\n",
    "            original_comps.append(comp)\n",
    "            insert_skycomponent(model, comp)\n",
    "\n",
    "predict_skycomponent_visibility(vt, original_comps)\n",
    "\n",
    "        \n",
    "cmodel = smooth_image(model) \n",
    "show_image(cmodel)\n",
    "plt.title(\"Smoothed model image\")\n",
    "plt.show()"
   ]
  },
  {
   "cell_type": "markdown",
   "metadata": {},
   "source": [
    "Check that the skycoordinate and image coordinate system are consistent by finding the point sources."
   ]
  },
  {
   "cell_type": "code",
   "execution_count": null,
   "metadata": {},
   "outputs": [],
   "source": [
    "comps = find_skycomponents(cmodel, fwhm=1.0, threshold=10.0, npixels=5)\n",
    "plt.clf()\n",
    "for i in range(len(comps)):\n",
    "    ocomp = find_nearest_component(comps[i].direction, original_comps)\n",
    "    plt.plot((comps[i].direction.ra.value  - ocomp.direction.ra.value)/cmodel.wcs.wcs.cdelt[0], \n",
    "             (comps[i].direction.dec.value - ocomp.direction.dec.value)/cmodel.wcs.wcs.cdelt[1], \n",
    "             '.', color='r')  \n",
    "\n",
    "plt.xlabel('delta RA (pixels)')\n",
    "plt.ylabel('delta DEC (pixels)')\n",
    "plt.title(\"Recovered - Original position offsets\")\n",
    "plt.show()"
   ]
  },
  {
   "cell_type": "markdown",
   "metadata": {},
   "source": [
    "Predict the visibility using the different approaches."
   ]
  },
  {
   "cell_type": "code",
   "execution_count": null,
   "metadata": {
    "scrolled": false
   },
   "outputs": [],
   "source": [
    "processors = [predict_2d, predict_wstack, predict_timeslice, predict_facets, predict_wprojection]\n",
    "\n",
    "for processor in processors:\n",
    "    \n",
    "    uvdist=numpy.sqrt(vt.data['uvw'][:,0]**2+vt.data['uvw'][:,1]**2)\n",
    "    plt.clf()\n",
    "    plt.plot(uvdist, numpy.abs(vt.data['vis'][:]), '.', color='r', label=\"DFT\")   \n",
    "    vtpredict = create_visibility(lowcore, times, frequency, channel_bandwidth=channel_bandwidth,\n",
    "                                  weight=1.0, phasecentre=phasecentre,\n",
    "                                 polarisation_frame=PolarisationFrame('stokesI'))\n",
    "    @timing\n",
    "    def predictit():\n",
    "        return processor(vtpredict, model, nprocessor=1, timeslice='auto', vis_slices=31,\n",
    "                         oversampling=4, facets=8, wstep=advice['w_sampling_primary_beam'])\n",
    "\n",
    "    vtpredict = predictit()\n",
    "        \n",
    "    plt.plot(uvdist, numpy.abs(vtpredict.data['vis'][:]), '.', color='b', label=processor.__name__)\n",
    "    plt.plot(uvdist, numpy.abs(vtpredict.data['vis'][:]-vt.data['vis'][:]), '.', color='g', label=\"Residual\")\n",
    "    plt.xlabel('uvdist')\n",
    "    plt.ylabel('Amp Visibility')\n",
    "    plt.legend()\n",
    "    plt.show()"
   ]
  },
  {
   "cell_type": "markdown",
   "metadata": {},
   "source": [
    "Make the image using the different approaches. We will evaluate the results using a number of plots:\n",
    "\n",
    "- The error in fitted versus the radius. The ideal result is a straightline fitted: flux = DFT flux\n",
    "- The offset in RA versus the offset in DEC. The ideal result is a cluster around 0 pixels.\n",
    "\n",
    "The sampling in w is set to provide 2% decorrelation at the half power point of the primary beam.\n"
   ]
  },
  {
   "cell_type": "code",
   "execution_count": null,
   "metadata": {
    "scrolled": false
   },
   "outputs": [],
   "source": [
    "processors = [invert_wstack, invert_2d, invert_timeslice, invert_facets, invert_wprojection]\n",
    "\n",
    "for processor in processors:\n",
    "\n",
    "    targetimage = create_image_from_visibility(vt, npixel=npixel, cellsize=0.001, nchan=1,\n",
    "                                              polarisation_frame=PolarisationFrame('stokesI'))\n",
    "    @timing\n",
    "    def makeimage():\n",
    "        return processor(vt, targetimage, timeslice='auto', padding=2, oversampling=4,\n",
    "                         facets=4, wstack=advice['w_sampling_primary_beam'], vis_slices=31,\n",
    "                         wstep=advice['w_sampling_primary_beam'])\n",
    "        \n",
    "    targetimage, sumwt = makeimage()\n",
    "\n",
    "    \n",
    "    show_image(targetimage)\n",
    "    plt.title(processor.__name__)\n",
    "    plt.show()\n",
    "    \n",
    "    print(\"Dirty Image %s\" % \n",
    "          qa_image(targetimage, context=\"imaging-fits notebook, using processor %s\" %(processor.__name__)))\n",
    "    \n",
    "    export_image_to_fits(targetimage, '%s/imaging-fits_dirty_%s.fits' %(results_dir, processor.__name__))\n",
    "    comps = find_skycomponents(targetimage, fwhm=1.0, threshold=10.0, npixels=5)\n",
    "\n",
    "    plt.clf()\n",
    "    for comp in comps:\n",
    "        distance = comp.direction.separation(model.phasecentre)\n",
    "        dft_flux = sum_visibility(vt, comp.direction)[0] \n",
    "        err = (comp.flux[0,0] - dft_flux ) / dft_flux\n",
    "        plt.plot(distance, err, '.', color='r')\n",
    "    plt.ylabel('Fractional error of image vs DFT')\n",
    "    plt.xlabel('Distance from phasecentre (deg)')\n",
    "    plt.title(\"Fractional error in %s recovered flux vs distance from phasecentre\" % (processor.__name__))\n",
    "    plt.show()\n",
    "\n",
    "    checkpositions = True\n",
    "    if checkpositions:\n",
    "        plt.clf()\n",
    "        for i in range(len(comps)):\n",
    "            ocomp = find_nearest_component(comps[i].direction, original_comps)\n",
    "            plt.plot((comps[i].direction.ra.value  - ocomp.direction.ra.value)/targetimage.wcs.wcs.cdelt[0], \n",
    "                     (comps[i].direction.dec.value - ocomp.direction.dec.value)/targetimage.wcs.wcs.cdelt[1], \n",
    "                     '.', color='r')  \n",
    "\n",
    "        plt.xlabel('delta RA (pixels)')\n",
    "        plt.ylabel('delta DEC (pixels)')\n",
    "        plt.title(\"%s: Position offsets\" % (processor.__name__))\n",
    "        plt.show()"
   ]
  },
  {
   "cell_type": "code",
   "execution_count": null,
   "metadata": {
    "collapsed": true
   },
   "outputs": [],
   "source": []
  }
 ],
 "metadata": {
  "kernelspec": {
   "display_name": "Python 3",
   "language": "python",
   "name": "python3"
  },
  "language_info": {
   "codemirror_mode": {
    "name": "ipython",
    "version": 3
   },
   "file_extension": ".py",
   "mimetype": "text/x-python",
   "name": "python",
   "nbconvert_exporter": "python",
   "pygments_lexer": "ipython3",
   "version": "3.6.1"
  }
 },
 "nbformat": 4,
 "nbformat_minor": 1
}
